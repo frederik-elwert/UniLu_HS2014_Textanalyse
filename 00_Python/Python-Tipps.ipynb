{
 "metadata": {
  "name": "",
  "signature": "sha256:1314796732e514b55cbd05ac2731791fc575410de43cd9a6e783078d43478ccf"
 },
 "nbformat": 3,
 "nbformat_minor": 0,
 "worksheets": [
  {
   "cells": [
    {
     "cell_type": "heading",
     "level": 1,
     "metadata": {},
     "source": [
      "Python-Tipps"
     ]
    },
    {
     "cell_type": "markdown",
     "metadata": {},
     "source": [
      "Eine detaillierte Einf\u00fchrung in Python kann hier nicht gegeben werden. In Erg\u00e4nzung zu den \u00fcblichen Konstrukten wie Bedingungen (`if`), Schleifen (`for`) und Datenstrukturen wie Listen und Dictionaries gibt es aber ein paar Kniffe, die in diesem Kontext vieles erleichtern. Sie sind an dieser Stelle f\u00fcr ein besseres Verst\u00e4ndnis noch einmal zusammengetragen."
     ]
    },
    {
     "cell_type": "heading",
     "level": 2,
     "metadata": {},
     "source": [
      "List Comprehension"
     ]
    },
    {
     "cell_type": "markdown",
     "metadata": {},
     "source": [
      "Daten m\u00fcssen f\u00fcr die Analyse h\u00e4ufig aufbereitet werden. Zwei typische Aufbereitungsprozeduren sind Filtern und Abbilden. Beim Filtern werden nur Elemente beibehalten, die ein bestimmtes Kriterium erf\u00fcllen, beim Abbilden wird jedes Element einer Liste \u00fcber eine Funktion in ein neues Element transformiert.\n",
      "\n",
      "Python stellt eine besondere Syntax bereit, die f\u00fcr beide Zwecke verwendet werden kann."
     ]
    },
    {
     "cell_type": "code",
     "collapsed": false,
     "input": [
      "l = ['a', 'bbb', 'c', 'ddd']"
     ],
     "language": "python",
     "metadata": {},
     "outputs": [],
     "prompt_number": 1
    },
    {
     "cell_type": "code",
     "collapsed": false,
     "input": [
      "# Transformation\n",
      "[s.upper() for s in l]"
     ],
     "language": "python",
     "metadata": {},
     "outputs": [
      {
       "metadata": {},
       "output_type": "pyout",
       "prompt_number": 2,
       "text": [
        "['A', 'BBB', 'C', 'DDD']"
       ]
      }
     ],
     "prompt_number": 2
    },
    {
     "cell_type": "code",
     "collapsed": false,
     "input": [
      "# Filtern\n",
      "[s for s in l if len(s) > 1]"
     ],
     "language": "python",
     "metadata": {},
     "outputs": [
      {
       "metadata": {},
       "output_type": "pyout",
       "prompt_number": 3,
       "text": [
        "['bbb', 'ddd']"
       ]
      }
     ],
     "prompt_number": 3
    },
    {
     "cell_type": "code",
     "collapsed": false,
     "input": [
      "# Beides auf einmal\n",
      "[s.upper() for s in l if len(s) > 1]"
     ],
     "language": "python",
     "metadata": {},
     "outputs": [
      {
       "metadata": {},
       "output_type": "pyout",
       "prompt_number": 4,
       "text": [
        "['BBB', 'DDD']"
       ]
      }
     ],
     "prompt_number": 4
    },
    {
     "cell_type": "code",
     "collapsed": false,
     "input": [
      "# Und sogar f\u00fcr dictionaries\n",
      "{s: s.upper() for s in l}"
     ],
     "language": "python",
     "metadata": {},
     "outputs": [
      {
       "metadata": {},
       "output_type": "pyout",
       "prompt_number": 5,
       "text": [
        "{'a': 'A', 'bbb': 'BBB', 'c': 'C', 'ddd': 'DDD'}"
       ]
      }
     ],
     "prompt_number": 5
    },
    {
     "cell_type": "heading",
     "level": 2,
     "metadata": {},
     "source": [
      "String-Formatierung"
     ]
    },
    {
     "cell_type": "markdown",
     "metadata": {},
     "source": [
      "Oftmals sollen Daten auf bestimmte Weise f\u00fcr die Ausgabe formatiert werden. Dazu ist eine \u00fcbliche Technik, eine Art Vorlage-Zeichenkette mit Platzhaltern zu erstellen, f\u00fcr die dann bestimmte Werte eingesetzt werden.\n",
      "\n",
      "Dazu gibt es in Python (mindestens) zwei M\u00f6glichkeiten. \u00c4lter, aber immer noch h\u00e4ufig gelehrt, ist diese Form:"
     ]
    },
    {
     "cell_type": "code",
     "collapsed": false,
     "input": [
      "u'%s kosten %.2f Mark.' % ('Bananen', 3.2)"
     ],
     "language": "python",
     "metadata": {},
     "outputs": [
      {
       "metadata": {},
       "output_type": "pyout",
       "prompt_number": 6,
       "text": [
        "u'Bananen kosten 3.20 Mark.'"
       ]
      }
     ],
     "prompt_number": 6
    },
    {
     "cell_type": "markdown",
     "metadata": {},
     "source": [
      "Neuer ist diese Variante, die hier durchgehend verwendet wird:"
     ]
    },
    {
     "cell_type": "code",
     "collapsed": false,
     "input": [
      "u'{} kosten {:.2f} Euro.'.format('Mangos', 4.9)"
     ],
     "language": "python",
     "metadata": {},
     "outputs": [
      {
       "metadata": {},
       "output_type": "pyout",
       "prompt_number": 7,
       "text": [
        "u'Mangos kosten 4.90 Euro.'"
       ]
      }
     ],
     "prompt_number": 7
    },
    {
     "cell_type": "heading",
     "level": 2,
     "metadata": {},
     "source": [
      "Generatoren"
     ]
    },
    {
     "cell_type": "heading",
     "level": 3,
     "metadata": {},
     "source": [
      "Listen und Generatoren"
     ]
    },
    {
     "cell_type": "markdown",
     "metadata": {},
     "source": [
      "H\u00e4ufig sind Daten als Reihe von Werten strukturiert. Eine typische Form einer solchen Reihe ist eine Liste. Listen erlauben zwei Zugriffsformen: Das Iterieren (alle Werte nacheinander aufrufen) mit `for x in y` und den direkten Zugriff auf ein bestimmtes Element mit `y[i]`."
     ]
    },
    {
     "cell_type": "code",
     "collapsed": false,
     "input": [
      "r = range(3)\n",
      "r"
     ],
     "language": "python",
     "metadata": {},
     "outputs": [
      {
       "metadata": {},
       "output_type": "pyout",
       "prompt_number": 8,
       "text": [
        "[0, 1, 2]"
       ]
      }
     ],
     "prompt_number": 8
    },
    {
     "cell_type": "code",
     "collapsed": false,
     "input": [
      "for i in r:\n",
      "    print i"
     ],
     "language": "python",
     "metadata": {},
     "outputs": [
      {
       "output_type": "stream",
       "stream": "stdout",
       "text": [
        "0\n",
        "1\n",
        "2\n"
       ]
      }
     ],
     "prompt_number": 9
    },
    {
     "cell_type": "code",
     "collapsed": false,
     "input": [
      "r[1]"
     ],
     "language": "python",
     "metadata": {},
     "outputs": [
      {
       "metadata": {},
       "output_type": "pyout",
       "prompt_number": 10,
       "text": [
        "1"
       ]
      }
     ],
     "prompt_number": 10
    },
    {
     "cell_type": "markdown",
     "metadata": {},
     "source": [
      "Daf\u00fcr muss aber die ganze Liste vorgehalten werden. Bei sehr gro\u00dfen Datenstrukturen oder bei rechenintensiven Prozeduren kann es sinnvoll sein, die Elemente erst nacheinander zu erzeugen. Das setzt etwa networkx um bei der Berechnung von Teilgraphen zusammenh\u00e4ngender Netzwerk-Komponenten, oder gensim in seinem TextCorpus-Format. Diese \u00bbGeneratoren\u00ab erlauben zwar das Iterieren, nicht aber den direkten Elementzugriff (weil gar nicht bekannt ist, welches Element an einer bestimmten Stelle sitzt).\n",
      "\n",
      "Generatoren sind einfache Funktionen und man kann sie leicht selbst erstellen. Dazu erstellt man nicht eine Liste, die man dann mit `return` zur\u00fcckgibt, sondern man gibt die Elemente nacheinander mit `yield` aus."
     ]
    },
    {
     "cell_type": "code",
     "collapsed": false,
     "input": [
      "def grange(x):\n",
      "    for i in range(x):\n",
      "        yield i\n",
      "\n",
      "r = grange(3)\n",
      "r"
     ],
     "language": "python",
     "metadata": {},
     "outputs": [
      {
       "metadata": {},
       "output_type": "pyout",
       "prompt_number": 11,
       "text": [
        "<generator object grange at 0x7fce440c2780>"
       ]
      }
     ],
     "prompt_number": 11
    },
    {
     "cell_type": "code",
     "collapsed": false,
     "input": [
      "for i in r:\n",
      "    print i"
     ],
     "language": "python",
     "metadata": {},
     "outputs": [
      {
       "output_type": "stream",
       "stream": "stdout",
       "text": [
        "0\n",
        "1\n",
        "2\n"
       ]
      }
     ],
     "prompt_number": 12
    },
    {
     "cell_type": "code",
     "collapsed": false,
     "input": [
      "r[1]"
     ],
     "language": "python",
     "metadata": {},
     "outputs": [
      {
       "ename": "TypeError",
       "evalue": "'generator' object has no attribute '__getitem__'",
       "output_type": "pyerr",
       "traceback": [
        "\u001b[1;31m---------------------------------------------------------------------------\u001b[0m\n\u001b[1;31mTypeError\u001b[0m                                 Traceback (most recent call last)",
        "\u001b[1;32m<ipython-input-13-4940bfffd272>\u001b[0m in \u001b[0;36m<module>\u001b[1;34m()\u001b[0m\n\u001b[1;32m----> 1\u001b[1;33m \u001b[0mr\u001b[0m\u001b[1;33m[\u001b[0m\u001b[1;36m1\u001b[0m\u001b[1;33m]\u001b[0m\u001b[1;33m\u001b[0m\u001b[0m\n\u001b[0m",
        "\u001b[1;31mTypeError\u001b[0m: 'generator' object has no attribute '__getitem__'"
       ]
      }
     ],
     "prompt_number": 13
    },
    {
     "cell_type": "markdown",
     "metadata": {},
     "source": [
      "Manchmal ist nur das erste Element eines Generators relevant, etwa wenn man das Teil-Netzwerk f\u00fcr die gr\u00f6\u00dfte Komponente in einem Netzwerk erhalten will, aber nicht an den darauf folgenden, kleineren Komponenten interessiert ist. Hier hift ein Kniff, bei dem man eine Schleife direkt nach dem ersten Durchgang abbricht:"
     ]
    },
    {
     "cell_type": "code",
     "collapsed": false,
     "input": [
      "r = grange(3)\n",
      "for i in r:\n",
      "    break\n",
      "i"
     ],
     "language": "python",
     "metadata": {},
     "outputs": [
      {
       "metadata": {},
       "output_type": "pyout",
       "prompt_number": 14,
       "text": [
        "0"
       ]
      }
     ],
     "prompt_number": 14
    },
    {
     "cell_type": "heading",
     "level": 2,
     "metadata": {},
     "source": [
      "Lambda-Ausdr\u00fccke"
     ]
    },
    {
     "cell_type": "markdown",
     "metadata": {},
     "source": [
      "Gelegentlich muss man einer Funktion eine Funktion \u00fcbergeben. Die Funktion `sorted()` hat z.B. einen optionalen Parameter `key`. Hier kann man eine Funktion \u00fcbergeben, die auf jedes Element angewandt wird, um die Sortierreihenfolge zu bestimmen. Normaler Weise werden etwa Gro\u00dfbuchstaben vor Kleinbuchstaben einsortiert:"
     ]
    },
    {
     "cell_type": "code",
     "collapsed": false,
     "input": [
      "l = ['ab', 'Ac']\n",
      "sorted(l)"
     ],
     "language": "python",
     "metadata": {},
     "outputs": [
      {
       "metadata": {},
       "output_type": "pyout",
       "prompt_number": 15,
       "text": [
        "['Ac', 'ab']"
       ]
      }
     ],
     "prompt_number": 15
    },
    {
     "cell_type": "markdown",
     "metadata": {},
     "source": [
      "Gelegentlich will man aber beim Sortieren die Gro\u00df- und Kleinschreibung ignorieren. Dann kann man die Funktion `str.lower` \u00fcbergeben, damit die Werte f\u00fcr die Sortierung als Kleinbuchstaben behandelt werden."
     ]
    },
    {
     "cell_type": "code",
     "collapsed": false,
     "input": [
      "sorted(l, key=str.lower)"
     ],
     "language": "python",
     "metadata": {},
     "outputs": [
      {
       "metadata": {},
       "output_type": "pyout",
       "prompt_number": 16,
       "text": [
        "['ab', 'Ac']"
       ]
      }
     ],
     "prompt_number": 16
    },
    {
     "cell_type": "markdown",
     "metadata": {},
     "source": [
      "Komplexere F\u00e4lle erfordern komplexere L\u00f6sungen. So werden Tupel standardm\u00e4\u00dfig nach ihrem ersten Element sortiert:"
     ]
    },
    {
     "cell_type": "code",
     "collapsed": false,
     "input": [
      "l = [('c', 2), ('a', 3), ('b', 1)]\n",
      "sorted(l)"
     ],
     "language": "python",
     "metadata": {},
     "outputs": [
      {
       "metadata": {},
       "output_type": "pyout",
       "prompt_number": 17,
       "text": [
        "[('a', 3), ('b', 1), ('c', 2)]"
       ]
      }
     ],
     "prompt_number": 17
    },
    {
     "cell_type": "markdown",
     "metadata": {},
     "source": [
      "Um nach dem zweiten zu sortieren, w\u00e4re eine Funktion erforderlich, die f\u00fcr jedes Tupel das zweite Element zur\u00fcckgibt."
     ]
    },
    {
     "cell_type": "code",
     "collapsed": false,
     "input": [
      "def sort_by_second(x):\n",
      "    return x[1]\n",
      "\n",
      "sorted(l, key=sort_by_second)"
     ],
     "language": "python",
     "metadata": {},
     "outputs": [
      {
       "metadata": {},
       "output_type": "pyout",
       "prompt_number": 18,
       "text": [
        "[('b', 1), ('c', 2), ('a', 3)]"
       ]
      }
     ],
     "prompt_number": 18
    },
    {
     "cell_type": "markdown",
     "metadata": {},
     "source": [
      "Es ist aber sehr umst\u00e4ndlich, in diesen F\u00e4llen jedes Mal eine Funktion zu definieren, die man ggf. nur einmal ben\u00f6tigt. F\u00fcr sehr einfache Funktionen, die nur aus einem einzelnen Ausdruck bestehen, gibt es daher in Python die M\u00f6glichkeit, mit `lambda` adhoc eine lokale Funktion zu definieren."
     ]
    },
    {
     "cell_type": "code",
     "collapsed": false,
     "input": [
      "sorted(l, key=lambda x: x[1])"
     ],
     "language": "python",
     "metadata": {},
     "outputs": [
      {
       "metadata": {},
       "output_type": "pyout",
       "prompt_number": 19,
       "text": [
        "[('b', 1), ('c', 2), ('a', 3)]"
       ]
      }
     ],
     "prompt_number": 19
    },
    {
     "cell_type": "heading",
     "level": 2,
     "metadata": {},
     "source": [
      "Formatierung in IPython Notebooks"
     ]
    },
    {
     "cell_type": "markdown",
     "metadata": {},
     "source": [
      "Manchmal sollen Werte nicht nur als reiner Text ausgegeben werden, sondern mit ein wenig Formatierung. In IPython Notebooks kann man dies \u00fcber HTML erreichen:"
     ]
    },
    {
     "cell_type": "code",
     "collapsed": false,
     "input": [
      "from IPython.core.display import HTML\n",
      "\n",
      "result = '<ul>'\n",
      "for i in range(3):\n",
      "    result += '<li>{}</li>'.format(i)\n",
      "result += '</ul>'\n",
      "\n",
      "HTML(result)"
     ],
     "language": "python",
     "metadata": {},
     "outputs": [
      {
       "html": [
        "<ul><li>0</li><li>1</li><li>2</li></ul>"
       ],
       "metadata": {},
       "output_type": "pyout",
       "prompt_number": 20,
       "text": [
        "<IPython.core.display.HTML at 0x7fce44049950>"
       ]
      }
     ],
     "prompt_number": 20
    },
    {
     "cell_type": "markdown",
     "metadata": {},
     "source": [
      "Leider ist HTML relativ umst\u00e4ndlich. Eine Alternative dazu ist Markdown. Diese simple Formatierungssprache l\u00e4sst sich leichter erzeugen. IPython Notebooks nutzt das Format z.B. in seinen Textfeldern. Es gibt zwar keine vordefinierte Funktion f\u00fcr die Ausgabe von Markdown, aber eine solche l\u00e4sst sich sehr leicht erstellen:"
     ]
    },
    {
     "cell_type": "code",
     "collapsed": false,
     "input": [
      "from IPython.nbconvert.filters import markdown2html\n",
      "\n",
      "class MD(unicode):\n",
      "    def _repr_html_(self):\n",
      "        return markdown2html(self)\n",
      "\n",
      "result = ''\n",
      "for i in range(3):\n",
      "    result += '* {}\\n'.format(i)\n",
      "\n",
      "MD(result)"
     ],
     "language": "python",
     "metadata": {},
     "outputs": [
      {
       "output_type": "stream",
       "stream": "stderr",
       "text": [
        "/home/frederik/Dropbox/Dokumente/Lehrveranstaltungen/LA_Luzern/Python/pyenv/local/lib/python2.7/site-packages/IPython/nbconvert/filters/markdown.py:78: UserWarning: Node.js 0.9.12 or later wasn't found.\n",
        "Nbconvert will try to use Pandoc instead.\n",
        "  \"Nbconvert will try to use Pandoc instead.\")\n"
       ]
      },
      {
       "html": [
        "<ul>\n",
        "<li>0</li>\n",
        "<li>1</li>\n",
        "<li>2</li>\n",
        "</ul>"
       ],
       "metadata": {},
       "output_type": "pyout",
       "prompt_number": 21,
       "text": [
        "u'* 0\\n* 1\\n* 2\\n'"
       ]
      }
     ],
     "prompt_number": 21
    }
   ],
   "metadata": {}
  }
 ]
}