{
 "metadata": {
  "name": "",
  "signature": "sha256:d3aba5c03d5e18dd2b73448fd943ef9d73fcbd65e333e064b2c564fd410e8926"
 },
 "nbformat": 3,
 "nbformat_minor": 0,
 "worksheets": [
  {
   "cells": [
    {
     "cell_type": "heading",
     "level": 1,
     "metadata": {},
     "source": [
      "Anwendung 1: Keyword Extraction"
     ]
    },
    {
     "cell_type": "code",
     "collapsed": false,
     "input": [
      "from gensim.corpora.textcorpus import TextCorpus\n",
      "from textblob_de import TextBlobDE as TextBlob\n",
      "import pandas as pd\n",
      "\n",
      "class CSVCorpus(TextCorpus):\n",
      "    \"\"\"Read corpus from a csv file.\"\"\"\n",
      "\n",
      "    def get_texts(self):\n",
      "        with self.getstream() as csvfile:  # \u00d6ffnet die CSV-Datei\n",
      "            table = pd.read_csv(csvfile, parse_dates=['date'], encoding='utf-8')  # Liest die CSV-Datei\n",
      "            for text in table['text']:  # Verarbeite die einzelnen Texte aus der Spalte 'text'\n",
      "                blob = TextBlob(text)\n",
      "                yield blob.words"
     ],
     "language": "python",
     "metadata": {},
     "outputs": [],
     "prompt_number": 1
    },
    {
     "cell_type": "code",
     "collapsed": false,
     "input": [
      "from gensim.models import TfidfModel\n",
      "\n",
      "corpus = CSVCorpus(\"../Daten/reden.csv\")\n",
      "tf_idf = TfidfModel(corpus)\n",
      "corpus_idf = tf_idf[corpus]"
     ],
     "language": "python",
     "metadata": {},
     "outputs": [],
     "prompt_number": 2
    },
    {
     "cell_type": "code",
     "collapsed": false,
     "input": [
      "def keywords(corpus, doc_tf_idf):\n",
      "    return [(corpus.dictionary[term], value)\n",
      "            for term, value\n",
      "            in sorted(doc_tf_idf, key=lambda x: x[1], reverse=True)]"
     ],
     "language": "python",
     "metadata": {},
     "outputs": [],
     "prompt_number": 3
    },
    {
     "cell_type": "code",
     "collapsed": false,
     "input": [
      "for i, doc in enumerate(corpus_idf):\n",
      "    if i == 9:\n",
      "        break\n",
      "    print\n",
      "    for keyword, value in keywords(corpus, doc)[0:5]:\n",
      "        print u'  {} ({})'.format(keyword, value)"
     ],
     "language": "python",
     "metadata": {},
     "outputs": [
      {
       "output_type": "stream",
       "stream": "stdout",
       "text": [
        "\n",
        "  Safranski (0.472750464052)\n",
        "  R\u00fcdiger (0.337367236021)\n",
        "  Wahrheiten (0.138215543768)\n",
        "  Utopien (0.126066790414)\n",
        "  Romantik (0.104493794377)\n",
        "\n",
        "  \u201eElektromobilit\u00e4t\u201c (0.372779168826)\n",
        "  Stecker (0.372435485485)\n",
        "  Elektromobilit\u00e4t (0.173383544659)\n",
        "  Pr\u00e4sentation (0.171540045793)\n",
        "  China (0.162105143183)\n",
        "\n"
       ]
      },
      {
       "output_type": "stream",
       "stream": "stdout",
       "text": [
        "  Nachhaltigkeit (0.294015094791)\n",
        "  China (0.291787735475)\n",
        "  Universit\u00e4t (0.109320088669)\n",
        "  Innovationspartnerschaft (0.1065077783)\n",
        "  Chinas (0.102461803818)\n",
        "\n",
        "  Tempelhof (0.556694789109)\n",
        "  Flughafen (0.292116704843)\n",
        "  AlliiertenMuseum (0.209741456143)\n",
        "  Berlin-Tempelhof (0.151825851575)\n",
        "  Miniaturbild (0.151825851575)\n",
        "\n",
        "  \u201eSonne\u201c (0.446115651832)\n",
        "  Schiff (0.272536385343)\n",
        "  Neptun (0.227323234857)\n",
        "  Werft (0.213883738352)\n",
        "  Meeresforschung (0.188422877129)\n",
        "\n"
       ]
      },
      {
       "output_type": "stream",
       "stream": "stdout",
       "text": [
        "  Klimaschutz (0.192756524708)\n",
        "  Hendricks (0.152513059156)\n",
        "  Umweltminister (0.14994348321)\n",
        "  Energien (0.13244948829)\n",
        "  2030 (0.125330990937)\n",
        "\n",
        "  Bev\u00f6lkerungsschutz (0.211489490766)\n",
        "  Bev\u00f6lkerungsschutzes (0.211489490766)\n",
        "  Haupt (0.185891928075)\n",
        "  Verzicht (0.165225609843)\n",
        "  freiwilligen (0.148534035723)\n",
        "\n"
       ]
      },
      {
       "output_type": "stream",
       "stream": "stdout",
       "text": [
        "  Wirtschaftswissenschaften (0.164377237199)\n",
        "  Wissenschaft (0.158895097718)\n",
        "  Lindau (0.138204437541)\n",
        "  Theorien (0.13284385955)\n",
        "  Politikberatung (0.108361418257)\n",
        "\n",
        "  Vertriebenen (0.648749225458)\n",
        "  Vertreibung (0.296323531462)\n",
        "  Flucht (0.258747401451)\n",
        "  Heimat (0.115601389578)\n",
        "  Schicksal (0.114708666597)\n"
       ]
      }
     ],
     "prompt_number": 4
    },
    {
     "cell_type": "code",
     "collapsed": false,
     "input": [
      "data = pd.read_csv(\"../Daten/reden.csv\", parse_dates=['date'], encoding='utf-8')\n",
      "\n",
      "for i, doc in enumerate(corpus_idf):\n",
      "    if i == 9:\n",
      "        break\n",
      "    print\n",
      "    print data['title'][i]\n",
      "    for keyword, value in keywords(corpus, doc)[0:5]:\n",
      "        print u'  {} ({})'.format(keyword, value)"
     ],
     "language": "python",
     "metadata": {},
     "outputs": [
      {
       "output_type": "stream",
       "stream": "stdout",
       "text": [
        "\n",
        "Laudatio auf R\u00fcdiger Safranski\n",
        "  Safranski (0.472750464052)\n",
        "  R\u00fcdiger (0.337367236021)\n",
        "  Wahrheiten (0.138215543768)\n",
        "  Utopien (0.126066790414)\n",
        "  Romantik (0.104493794377)\n",
        "\n",
        "Rede von Bundeskanzlerin Merkel anl\u00e4sslich der Pr\u00e4sentation des deutsch-chinesischen Kooperationsprojekts zur Ladeinfrastruktur f\u00fcr Elektrofahrzeuge am 8. Juli 2014\n",
        "  \u201eElektromobilit\u00e4t\u201c (0.372779168826)\n",
        "  Stecker (0.372435485485)\n",
        "  Elektromobilit\u00e4t (0.173383544659)\n",
        "  Pr\u00e4sentation (0.171540045793)\n",
        "  China (0.162105143183)\n",
        "\n",
        "Rede von Bundeskanzlerin Merkel anl\u00e4sslich des Besuchs der Tsinghua - Universit\u00e4t am 8. Juli 2014\n",
        "  Nachhaltigkeit (0.294015094791)\n",
        "  China (0.291787735475)\n",
        "  Universit\u00e4t (0.109320088669)\n",
        "  Innovationspartnerschaft (0.1065077783)\n",
        "  Chinas (0.102461803818)\n",
        "\n",
        "Kulturstaatsministerin Monika Gr\u00fctters zur Er\u00f6ffnung der Sonderausstellung\r\n",
        "\"Flughafen Berlin-Tempelhof - Die amerikanische Geschichte\"\n",
        "  Tempelhof (0.556694789109)\n",
        "  Flughafen (0.292116704843)\n",
        "  AlliiertenMuseum (0.209741456143)\n",
        "  Berlin-Tempelhof (0.151825851575)\n",
        "  Miniaturbild (0.151825851575)\n",
        "\n"
       ]
      },
      {
       "output_type": "stream",
       "stream": "stdout",
       "text": [
        "Rede von Bundeskanzlerin Merkel anl\u00e4sslich der Taufe des Tiefseeforschungsschiffs \u201eSonne\u201c am 11. Juli 2014 \n",
        "  \u201eSonne\u201c (0.446115651832)\n",
        "  Schiff (0.272536385343)\n",
        "  Neptun (0.227323234857)\n",
        "  Werft (0.213883738352)\n",
        "  Meeresforschung (0.188422877129)\n",
        "\n",
        "Rede von Bundeskanzlerin Merkel anl\u00e4sslich des 5. Petersberger Klimadialogs am 14. Juli 2014\n",
        "  Klimaschutz (0.192756524708)\n",
        "  Hendricks (0.152513059156)\n",
        "  Umweltminister (0.14994348321)\n",
        "  Energien (0.13244948829)\n",
        "  2030 (0.125330990937)\n",
        "\n",
        "Rede von Bundeskanzlerin Merkel zum Treffen mit BBK, THW und den Hilfsorganisationen im Bereich des Bev\u00f6lkerungsschutzes am 19. August 2014 in Bonn\n",
        "  Bev\u00f6lkerungsschutz (0.211489490766)\n",
        "  Bev\u00f6lkerungsschutzes (0.211489490766)\n",
        "  Haupt (0.185891928075)\n",
        "  Verzicht (0.165225609843)\n",
        "  freiwilligen (0.148534035723)\n",
        "\n"
       ]
      },
      {
       "output_type": "stream",
       "stream": "stdout",
       "text": [
        "Rede von Bundeskanzlerin Merkel zum 5. Treffen der Nobelpreistr\u00e4ger\n",
        "  Wirtschaftswissenschaften (0.164377237199)\n",
        "  Wissenschaft (0.158895097718)\n",
        "  Lindau (0.138204437541)\n",
        "  Theorien (0.13284385955)\n",
        "  Politikberatung (0.108361418257)\n",
        "\n",
        "Rede von Bundeskanzlerin Merkel zum Tag der Heimat am 30. August 2014\n",
        "  Vertriebenen (0.648749225458)\n",
        "  Vertreibung (0.296323531462)\n",
        "  Flucht (0.258747401451)\n",
        "  Heimat (0.115601389578)\n",
        "  Schicksal (0.114708666597)\n"
       ]
      }
     ],
     "prompt_number": 5
    }
   ],
   "metadata": {}
  }
 ]
}