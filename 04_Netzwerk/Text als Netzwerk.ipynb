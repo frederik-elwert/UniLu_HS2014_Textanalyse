{
 "metadata": {
  "name": "",
  "signature": "sha256:bef85c7de57a342b6696b1ed5f8cf5cc7ccbcf2681562895280a608ee72fe73b"
 },
 "nbformat": 3,
 "nbformat_minor": 0,
 "worksheets": [
  {
   "cells": [
    {
     "cell_type": "heading",
     "level": 1,
     "metadata": {},
     "source": [
      "Text als Netzwerk"
     ]
    },
    {
     "cell_type": "code",
     "collapsed": false,
     "input": [
      "import networkx as nx\n",
      "import pandas as pd\n",
      "from textblob_de import TextBlobDE as TextBlob\n",
      "from itertools import combinations\n",
      "from pprint import pprint"
     ],
     "language": "python",
     "metadata": {},
     "outputs": [],
     "prompt_number": 1
    },
    {
     "cell_type": "code",
     "collapsed": false,
     "input": [
      "import re\n",
      "import codecs\n",
      "with codecs.open('../Daten/stopwords.txt', 'r', 'utf-8') as stopwordfile:\n",
      "    stopwords = [line.strip() for line in stopwordfile.readlines()]\n",
      "\n",
      "def lemmatize_and_filter(blob, tags):\n",
      "    lemmas = blob.words.lemmatize()\n",
      "    tagged = blob.pos_tags\n",
      "    result = []\n",
      "    for lemma, (word, tag) in zip(lemmas, tagged):\n",
      "        if tag[0:2] in tags and not word in stopwords and re.match(u'[^\\W0-9]+', lemma, re.U):\n",
      "            result.append(lemma)\n",
      "    return result"
     ],
     "language": "python",
     "metadata": {},
     "outputs": [],
     "prompt_number": 2
    },
    {
     "cell_type": "code",
     "collapsed": false,
     "input": [
      "[(a, b) for a, b in combinations('abc', 2)]"
     ],
     "language": "python",
     "metadata": {},
     "outputs": [
      {
       "metadata": {},
       "output_type": "pyout",
       "prompt_number": 3,
       "text": [
        "[('a', 'b'), ('a', 'c'), ('b', 'c')]"
       ]
      }
     ],
     "prompt_number": 3
    },
    {
     "cell_type": "code",
     "collapsed": false,
     "input": [
      "data = pd.read_csv('../Daten/reden.csv', parse_dates=['date'], encoding='utf-8')\n",
      "graph = nx.Graph()\n",
      "for text in data['text']:\n",
      "    blob = TextBlob(text)\n",
      "    for sentence in blob.sentences:\n",
      "        lemmas = lemmatize_and_filter(sentence, ('NN', 'JJ'))\n",
      "        for a, b in combinations(lemmas, 2):\n",
      "            if a == b:\n",
      "                continue\n",
      "            try:\n",
      "                graph[a][b]['weight'] += 1\n",
      "            except KeyError:\n",
      "                graph.add_edge(a, b, weight=1)"
     ],
     "language": "python",
     "metadata": {},
     "outputs": [],
     "prompt_number": 4
    },
    {
     "cell_type": "code",
     "collapsed": false,
     "input": [
      "u'Nodes: {}, Edges: {}'.format(graph.number_of_nodes(), graph.number_of_edges())"
     ],
     "language": "python",
     "metadata": {},
     "outputs": [
      {
       "metadata": {},
       "output_type": "pyout",
       "prompt_number": 5,
       "text": [
        "u'Nodes: 46085, Edges: 952228'"
       ]
      }
     ],
     "prompt_number": 5
    },
    {
     "cell_type": "code",
     "collapsed": false,
     "input": [
      "nx.write_graphml(graph, '../Daten/network.graphml')"
     ],
     "language": "python",
     "metadata": {},
     "outputs": [],
     "prompt_number": 6
    },
    {
     "cell_type": "code",
     "collapsed": false,
     "input": [
      "from collections import Counter\n",
      "nodes_by_degree = Counter(graph.degree())\n",
      "tops = nodes_by_degree.most_common(20)\n",
      "tops"
     ],
     "language": "python",
     "metadata": {},
     "outputs": [
      {
       "metadata": {},
       "output_type": "pyout",
       "prompt_number": 7,
       "text": [
        "[(u'Deutschland', 7821),\n",
        " (u'gross', 6254),\n",
        " (u'Menschen', 5721),\n",
        " (u'deutsch', 5360),\n",
        " (u'Jahren', 5282),\n",
        " (u'Herren', 5118),\n",
        " (u'Damen', 5087),\n",
        " (u'Deutsch', 4655),\n",
        " (u'Jahr', 4579),\n",
        " (u'Beispiel', 4578),\n",
        " (u'Herr', 4256),\n",
        " (u'Europa', 4239),\n",
        " (u'Welt', 3916),\n",
        " (u'lieb', 3705),\n",
        " (u'Zeit', 3594),\n",
        " (u'Jahre', 3507),\n",
        " (u'Frage', 3494),\n",
        " (u'Land', 3445),\n",
        " (u'europ\\xe4isch', 3409),\n",
        " (u'international', 3396)]"
       ]
      }
     ],
     "prompt_number": 7
    },
    {
     "cell_type": "code",
     "collapsed": false,
     "input": [
      "subgraph = graph.subgraph(graph.neighbors(u'Integration'))\n",
      "u'Nodes: {}, Edges: {}'.format(subgraph.number_of_nodes(), subgraph.number_of_edges())"
     ],
     "language": "python",
     "metadata": {},
     "outputs": [
      {
       "metadata": {},
       "output_type": "pyout",
       "prompt_number": 8,
       "text": [
        "u'Nodes: 861, Edges: 48052'"
       ]
      }
     ],
     "prompt_number": 8
    },
    {
     "cell_type": "code",
     "collapsed": false,
     "input": [
      "lowedges = [edge for edge in subgraph.edges(data=True) if edge[2]['weight'] < 2]\n",
      "len(lowedges)"
     ],
     "language": "python",
     "metadata": {},
     "outputs": [
      {
       "metadata": {},
       "output_type": "pyout",
       "prompt_number": 9,
       "text": [
        "24808"
       ]
      }
     ],
     "prompt_number": 9
    },
    {
     "cell_type": "code",
     "collapsed": false,
     "input": [
      "subgraph.remove_edges_from(lowedges)\n",
      "nx.number_connected_components(subgraph)"
     ],
     "language": "python",
     "metadata": {},
     "outputs": [
      {
       "metadata": {},
       "output_type": "pyout",
       "prompt_number": 10,
       "text": [
        "122"
       ]
      }
     ],
     "prompt_number": 10
    },
    {
     "cell_type": "code",
     "collapsed": false,
     "input": [
      "for subgraph2 in nx.connected_component_subgraphs(subgraph):\n",
      "    break\n",
      "u'Nodes: {}, Edges: {}'.format(subgraph2.number_of_nodes(), subgraph2.number_of_edges())"
     ],
     "language": "python",
     "metadata": {},
     "outputs": [
      {
       "metadata": {},
       "output_type": "pyout",
       "prompt_number": 11,
       "text": [
        "u'Nodes: 739, Edges: 23243'"
       ]
      }
     ],
     "prompt_number": 11
    },
    {
     "cell_type": "markdown",
     "metadata": {},
     "source": [
      "http://perso.crans.org/aynaud/communities/"
     ]
    },
    {
     "cell_type": "code",
     "collapsed": false,
     "input": [
      "import community\n",
      "partition = community.best_partition(subgraph2)\n",
      "\n",
      "communities = [[] for i in set(partition.values())]\n",
      "for node, comm in partition.items():\n",
      "    communities[comm].append(node)\n",
      "    \n",
      "community_graphs = [subgraph2.subgraph(nodes) for nodes in communities]\n",
      "for i, graph in enumerate(community_graphs):\n",
      "    print u'Community {}:'.format(i)\n",
      "    pprint(Counter(graph.degree()).most_common(10))"
     ],
     "language": "python",
     "metadata": {},
     "outputs": [
      {
       "output_type": "stream",
       "stream": "stdout",
       "text": [
        "Community 0:\n",
        "[(u'Europa', 124),\n",
        " (u'europ\\xe4isch', 116),\n",
        " (u'Europ\\xe4isch', 107),\n",
        " (u'Welt', 106),\n",
        " (u'Beispiel', 99),\n",
        " (u'gemeinsam', 98),\n",
        " (u'Union', 97),\n",
        " (u'L\\xe4nder', 96),\n",
        " (u'L\\xe4ndern', 87),\n",
        " (u'Weg', 81)]\n",
        "Community 1:\n",
        "[(u'Menschen', 146),\n",
        " (u'Frage', 119),\n",
        " (u'Zukunft', 116),\n",
        " (u'Gesellschaft', 113),\n",
        " (u'Politik', 94),\n",
        " (u'Thema', 91),\n",
        " (u'Leben', 89),\n",
        " (u'Aufgabe', 88),\n",
        " (u'politisch', 88),\n",
        " (u'wichtig', 86)]\n",
        "Community 2:\n",
        "[(u'Deutschland', 147),\n",
        " (u'deutsch', 114),\n",
        " (u'gross', 106),\n",
        " (u'Jahren', 96),\n",
        " (u'Land', 90),\n",
        " (u'Jahre', 77),\n",
        " (u'Zeit', 77),\n",
        " (u'international', 77),\n",
        " (u'Geschichte', 76),\n",
        " (u'Seite', 66)]\n",
        "Community 3:\n",
        "[(u'Herr', 91),\n",
        " (u'lieb', 89),\n",
        " (u'Herren', 78),\n",
        " (u'Damen', 78),\n",
        " (u'Deutsch', 75),\n",
        " (u'Frau', 67),\n",
        " (u'herzlich', 57),\n",
        " (u'Professor', 50),\n",
        " (u'freue', 46),\n",
        " (u'Berlin', 43)]\n",
        "Community 4:\n",
        "[(u'Jahr', 24),\n",
        " (u'Bundesregierung', 22),\n",
        " (u'Euro', 20),\n",
        " (u'Rahmen', 17),\n",
        " (u'Bildung', 17),\n",
        " (u'Millionen', 15),\n",
        " (u'Bereich', 15),\n",
        " (u'kulturell', 15),\n",
        " (u'zus\\xe4tzlich', 15),\n",
        " (u'Milliarde', 13)]\n"
       ]
      }
     ],
     "prompt_number": 13
    }
   ],
   "metadata": {}
  }
 ]
}