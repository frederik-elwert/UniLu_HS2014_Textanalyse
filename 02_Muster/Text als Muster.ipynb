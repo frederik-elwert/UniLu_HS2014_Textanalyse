{
 "metadata": {
  "name": "",
  "signature": "sha256:3f09bc50cb7d84adb8cc6081667261122cfcaed51a73d47d1aa98130ec38cd78"
 },
 "nbformat": 3,
 "nbformat_minor": 0,
 "worksheets": [
  {
   "cells": [
    {
     "cell_type": "heading",
     "level": 1,
     "metadata": {},
     "source": [
      "Text als Muster"
     ]
    },
    {
     "cell_type": "markdown",
     "metadata": {},
     "source": [
      "Die in Dokumentenformaten wie HTML definierte Struktur hilft uns nur soweit, wie die relevanten Inhalte eines Textes auch explizit gekennzeichnet sind. Oft sind aber Informationen in Texten in unstrukturierter Form enthalten. Diese Informationen in strukturierter Form zu extrahieren ist die Aufgabe der [Informationsextraktion](http://de.wikipedia.org/wiki/Informationsextraktion).\n",
      "\n",
      "Im Falle der politischen Reden etwa sind die Datumsangaben in nat\u00fcrlicher Sprache verfasst, also z.B. \u00bb27. Januar 2011\u00ab. Dies ist zun\u00e4chst einfach eine Zeichenkette (string) aus Zahlzeichen, Buchstaben, Leerzeichen und Punkten. Mit dieser Angabe kann man etwa nicht ohne weitere Verarbeitung bestimmen, ob eine Rede im Jahr 2011 oder im Jahr 2012 gehalten wurde. Dazu muss die unstrukturierte Zeichenkette in bestimmte Elemente, etwa Tag, Monat und Jahr, zerlegt werden.\n",
      "\n",
      "In Python gibt es den Datentyp `date`, der den strukturierten Umgang mit Datumsangaben erlaubt:"
     ]
    },
    {
     "cell_type": "code",
     "collapsed": false,
     "input": [
      "import datetime\n",
      "datetime.date.today()"
     ],
     "language": "python",
     "metadata": {},
     "outputs": [
      {
       "metadata": {},
       "output_type": "pyout",
       "prompt_number": 1,
       "text": [
        "datetime.date(2014, 10, 7)"
       ]
      }
     ],
     "prompt_number": 1
    },
    {
     "cell_type": "code",
     "collapsed": false,
     "input": [
      "date = datetime.date(2011, 1, 27)\n",
      "date.year == 2011"
     ],
     "language": "python",
     "metadata": {},
     "outputs": [
      {
       "metadata": {},
       "output_type": "pyout",
       "prompt_number": 2,
       "text": [
        "True"
       ]
      }
     ],
     "prompt_number": 2
    },
    {
     "cell_type": "markdown",
     "metadata": {},
     "source": [
      "Die Aufgabe besteht also zun\u00e4chst darin, aus der Zeichenkette \u00bb27. Januar 2011\u00ab das Datum in strukturierter Form zu extrahieren. Dabei hilft es, dass wir wissen, dass hier zun\u00e4chst der Tag steht, dann der Monat und dann das Jahr. Mit dieser Information l\u00e4sst sich etwa das Jahr extrahieren."
     ]
    },
    {
     "cell_type": "code",
     "collapsed": false,
     "input": [
      "date_string = '27. Januar 2011'\n",
      "day, month, year = date_string.split()\n",
      "int(year) == 2011"
     ],
     "language": "python",
     "metadata": {},
     "outputs": [
      {
       "metadata": {},
       "output_type": "pyout",
       "prompt_number": 3,
       "text": [
        "True"
       ]
      }
     ],
     "prompt_number": 3
    },
    {
     "cell_type": "markdown",
     "metadata": {},
     "source": [
      "F\u00fcr den Monat ist dies schwieriger, da er nicht als Zahl, sondern als Wort angegeben ist. In Python sind die hierf\u00fcr notwendigen Informationen schon enthalten. Um aus einer Zeichenkette, die einem bestimmten Aufbau folgt, ein Datum zu extrahieren, muss man nur das entsprechende Muster formulieren:\n",
      "\n",
      "> Erst der Tag als Zahl, gefolgt von einem Punkt, dann der Monat als ausgeschriebenes Wort, dann das vierstellige Jahr.\n",
      "\n",
      "Die entsprechenden Muster lassen sich in der [Python-Dokumentation](https://docs.python.org/2.7/library/datetime.html?highlight=strptime#strftime-strptime-behavior) oder auf [strftime.org](http://strftime.org/) nachlesen. Das Muster lautet dann:"
     ]
    },
    {
     "cell_type": "code",
     "collapsed": false,
     "input": [
      "pattern = '%d. %B %Y'"
     ],
     "language": "python",
     "metadata": {},
     "outputs": [],
     "prompt_number": 4
    },
    {
     "cell_type": "markdown",
     "metadata": {},
     "source": [
      "Die Funktion `strptime` (string parse time) erlaubt, dieses Muster f\u00fcr die Extraktion eines Datums anzuwenden. Dabei wird standardm\u00e4\u00dfig ein `datetime`-Objekt erstellt, dass nicht nur da Datum, sondern auch eine Zeitangabe enth\u00e4lt. Da dies hier nicht ben\u00f6tigt wird, l\u00e4sst sich daraus aber auch nur das Datum extrahieren. Da Python zus\u00e4tzlich wissen muss, dass die Monate auf Deutsch angegeben sind, muss die entsprechende Sprache aktiviert werden."
     ]
    },
    {
     "cell_type": "code",
     "collapsed": false,
     "input": [
      "import locale\n",
      "locale.setlocale(locale.LC_ALL, 'de_DE.UTF-8')\n",
      "\n",
      "date_and_time = datetime.datetime.strptime(date_string, pattern)\n",
      "date_and_time.date()"
     ],
     "language": "python",
     "metadata": {},
     "outputs": [
      {
       "metadata": {},
       "output_type": "pyout",
       "prompt_number": 5,
       "text": [
        "datetime.date(2011, 1, 27)"
       ]
      }
     ],
     "prompt_number": 5
    },
    {
     "cell_type": "markdown",
     "metadata": {},
     "source": [
      "Diese Art der Mustererkennung ist allerdings auf Datumsangaben beschr\u00e4nkt. Auf \u00e4hnliche Art und Weise kann man aber in vielen F\u00e4llen Muster in Texten extrahieren. Hierf\u00fcr unterst\u00fctzen die meisten Programmiersprachen sogenannte \u00bbregul\u00e4re Ausdr\u00fccke\u00ab. Diese erlauben, Muster zu beschreiben und in Texten zu finden. Ein regul\u00e4rer Ausdruck besteht in der Regel aus diesen Elementen:\n",
      "\n",
      "*Was?*\n",
      "\n",
      "Welche Zeichen sollen gefunden werden?\n",
      "\n",
      "* W\u00f6rtliche Zeichen: Zeichen werden so gefunden, wie sie eingegeben werden, z.B. \u00bb`a`\u00ab.\n",
      "* Zeichen aus einer bestimmten Menge, z.B. \u00bb`[a\u00e4]`\u00ab f\u00fcr a oder \u00e4, \u00bb`[a-z]`\u00ab f\u00fcr die Kleinbuchstaben zwischen a und z.\n",
      "* Zeichen aus einer vordefinierten Menge, z.B. \u00bb`\\d`\u00ab f\u00fcr Zahlen *(decimal)* oder \u00bb`\\w`\u00ab f\u00fcr Buchstaben und Zahlen *(word)*.\n",
      "* Ein beliebiges Zeichen: \u00bb`.`\u00ab.\n",
      "\n",
      "*Wie viel?*\n",
      "\n",
      "Wie viele dieser Zeichen sollen gefunden werden?\n",
      "\n",
      "* \u00bb`*`\u00ab: Keinmal oder mehrfach\n",
      "* \u00bb`+`\u00ab: Einmal oder mehrfach\n",
      "* \u00bb`?`\u00ab: Keinmal oder einmal\n",
      "* \u00bb`{m,n}`\u00ab: Mindestens m-mal, h\u00f6chstens n-mal, z.B. \u00bb`{2,4}`\u00ab.\n",
      "\n",
      "*M\u00f6glichst viel oder m\u00f6glichst wenig?*\n",
      "\n",
      "In zweideutigen F\u00e4llen kann angegeben werden, ob m\u00f6glichst viele oder m\u00f6glichst wenige Zeichen gefunden werden sollen.\n",
      "\n",
      "* \u00bb`*?`\u00ab oder \u00bb`+?`\u00ab: M\u00f6glichst wenig\n",
      "\n",
      "F\u00fcr eine ausf\u00fchrliche Beschreibung sei auf [Wikipedia](http://de.wikipedia.org/wiki/Regul%C3%A4rer_Ausdruck#Regul.C3.A4re_Ausdr.C3.BCcke_in_der_Praxis) und die [Python-Dokumentation](https://docs.python.org/2.7/library/re.html) verwiesen.\n",
      "\n",
      "Zur Veranschaulichung nun ein Beispiel: In einem Text sollen alle Passagen gefunden werden, die zwischen Anf\u00fchrungszeichen stehen:"
     ]
    },
    {
     "cell_type": "code",
     "collapsed": false,
     "input": [
      "text = u'Mehr als \u00bbT\u00fcr\u00ab: \u00bbDoppel-T\u00fcr\u00ab oder \u00bbT\u00fcr und Tor\u00ab.'"
     ],
     "language": "python",
     "metadata": {},
     "outputs": [],
     "prompt_number": 6
    },
    {
     "cell_type": "code",
     "collapsed": false,
     "input": [
      "import re\n",
      "re.findall(u'\u00bb\\w+\u00ab', text, re.UNICODE)"
     ],
     "language": "python",
     "metadata": {},
     "outputs": [
      {
       "metadata": {},
       "output_type": "pyout",
       "prompt_number": 7,
       "text": [
        "[u'\\xbbT\\xfcr\\xab']"
       ]
      }
     ],
     "prompt_number": 7
    },
    {
     "cell_type": "code",
     "collapsed": false,
     "input": [
      "re.findall(u'\u00bb[\\w-]+\u00ab', text, re.U)"
     ],
     "language": "python",
     "metadata": {},
     "outputs": [
      {
       "metadata": {},
       "output_type": "pyout",
       "prompt_number": 8,
       "text": [
        "[u'\\xbbT\\xfcr\\xab', u'\\xbbDoppel-T\\xfcr\\xab']"
       ]
      }
     ],
     "prompt_number": 8
    },
    {
     "cell_type": "code",
     "collapsed": false,
     "input": [
      "re.findall(u'\u00bb.+\u00ab', text, re.U)"
     ],
     "language": "python",
     "metadata": {},
     "outputs": [
      {
       "metadata": {},
       "output_type": "pyout",
       "prompt_number": 9,
       "text": [
        "[u'\\xbbT\\xfcr\\xab: \\xbbDoppel-T\\xfcr\\xab oder \\xbbT\\xfcr und Tor\\xab']"
       ]
      }
     ],
     "prompt_number": 9
    },
    {
     "cell_type": "code",
     "collapsed": false,
     "input": [
      "re.findall(u'\u00bb.+?\u00ab', text, re.U)"
     ],
     "language": "python",
     "metadata": {},
     "outputs": [
      {
       "metadata": {},
       "output_type": "pyout",
       "prompt_number": 10,
       "text": [
        "[u'\\xbbT\\xfcr\\xab', u'\\xbbDoppel-T\\xfcr\\xab', u'\\xbbT\\xfcr und Tor\\xab']"
       ]
      }
     ],
     "prompt_number": 10
    },
    {
     "cell_type": "markdown",
     "metadata": {},
     "source": [
      "In vielen F\u00e4llen soll aus einem Muster nur ein Element (oder mehrere Elemente) extrahiert werden. Dazu k\u00f6nnen Passagen im Muster eingeklammert und diese sogenannten \u00bbGruppen\u00ab sp\u00e4ter isoliert werden."
     ]
    },
    {
     "cell_type": "code",
     "collapsed": false,
     "input": [
      "text = u'Dieser Beitrag wurde ver\u00f6ffentlicht am 20.1.2014 von Marie M\u00fcller.'\n",
      "pattern = u'ver\u00f6ffentlicht am ([\\d\\.]+) von (.*?)\\.'\n",
      "match = re.search(pattern, text, re.U)\n",
      "match.group(1), match.group(2)"
     ],
     "language": "python",
     "metadata": {},
     "outputs": [
      {
       "metadata": {},
       "output_type": "pyout",
       "prompt_number": 11,
       "text": [
        "(u'20.1.2014', u'Marie M\\xfcller')"
       ]
      }
     ],
     "prompt_number": 11
    },
    {
     "cell_type": "markdown",
     "metadata": {},
     "source": [
      "Im Gegensatz zu `re.findall()` gibt `re.search()` die Treffer also nicht direkt zur\u00fcck, sondern speichert das Ergebnis in einer Form, die den gezielten Zugriff auf verschiedene Bestandteile erlaubt. `re.search()` kann dabei auch als Test verwendet werden: Wenn das Muster nicht auf den Text passt, wird statt eines Match-Objekts der Wert `None` zur\u00fcckgegeben."
     ]
    },
    {
     "cell_type": "heading",
     "level": 3,
     "metadata": {},
     "source": [
      "Aufgabe"
     ]
    },
    {
     "cell_type": "markdown",
     "metadata": {},
     "source": [
      "Extrahieren Sie aus den gegebenen Daten ein Datumsobjekt (`datetime.date`). Ggf. m\u00fcssen Sie dazu mit einer Fallunterscheidung arbeiten."
     ]
    },
    {
     "cell_type": "code",
     "collapsed": false,
     "input": [
      "data = [\n",
      "    u'Datum: 23.1.2011',\n",
      "    u'Datum: 12. Januar 2004',\n",
      "    u'Ver\u00f6ffentlicht am 5. September 1999.',\n",
      "    u'Publiziert 12.04.2012 von admin',\n",
      "]"
     ],
     "language": "python",
     "metadata": {},
     "outputs": [],
     "prompt_number": 12
    },
    {
     "cell_type": "code",
     "collapsed": false,
     "input": [
      "def extract_date(text):\n",
      "    return None\n",
      "\n",
      "[extract_date(text) for text in data]"
     ],
     "language": "python",
     "metadata": {},
     "outputs": [
      {
       "metadata": {},
       "output_type": "pyout",
       "prompt_number": 13,
       "text": [
        "[None, None, None, None]"
       ]
      }
     ],
     "prompt_number": 13
    },
    {
     "cell_type": "heading",
     "level": 2,
     "metadata": {},
     "source": [
      "Ein Testfall"
     ]
    },
    {
     "cell_type": "markdown",
     "metadata": {},
     "source": [
      "Die von der Seite der Bundesregierung gespeicherten Reden enthalten zwar Angaben zu Ort und Zeit, aber die Redner sind nicht explizit ausgewiesen. Sie werden allerdings in der Regel im Titel genannt. Ein Ansatz kann also sein, Angaben zur Rednerin bzw. zum Redner mittels regul\u00e4rer Ausdr\u00fccke aus dem Titel zu extrahieren."
     ]
    },
    {
     "cell_type": "code",
     "collapsed": false,
     "input": [
      "import pandas as pd\n",
      "data = pd.read_csv('../Daten/reden.csv', parse_dates=['date'], encoding='utf-8')"
     ],
     "language": "python",
     "metadata": {},
     "outputs": [],
     "prompt_number": 14
    },
    {
     "cell_type": "code",
     "collapsed": false,
     "input": [
      "data.head()"
     ],
     "language": "python",
     "metadata": {},
     "outputs": [
      {
       "html": [
        "<div style=\"max-height:1000px;max-width:1500px;overflow:auto;\">\n",
        "<table border=\"1\" class=\"dataframe\">\n",
        "  <thead>\n",
        "    <tr style=\"text-align: right;\">\n",
        "      <th></th>\n",
        "      <th>place</th>\n",
        "      <th>title</th>\n",
        "      <th>date</th>\n",
        "      <th>text</th>\n",
        "      <th>abstract</th>\n",
        "      <th>link</th>\n",
        "    </tr>\n",
        "  </thead>\n",
        "  <tbody>\n",
        "    <tr>\n",
        "      <th>0</th>\n",
        "      <td>                  Weimar</td>\n",
        "      <td>                    Laudatio auf R\u00fcdiger Safranski</td>\n",
        "      <td>2014-07-06</td>\n",
        "      <td> - Es gilt das gesprochene Wort. -\\r\\nEs geh\u00f6rt...</td>\n",
        "      <td> Der Schriftsteller und Literaturwissenschaftle...</td>\n",
        "      <td> http://www.bundesregierung.de/Content/DE/Rede/...</td>\n",
        "    </tr>\n",
        "    <tr>\n",
        "      <th>1</th>\n",
        "      <td>                  Peking</td>\n",
        "      <td> Rede von Bundeskanzlerin Merkel anl\u00e4sslich der...</td>\n",
        "      <td>2014-07-08</td>\n",
        "      <td> Sehr geehrter Herr Minister Miao Wei,\\r\\nmeine...</td>\n",
        "      <td>                                     in Peking\\r\\n</td>\n",
        "      <td> http://www.bundesregierung.de/Content/DE/Rede/...</td>\n",
        "    </tr>\n",
        "    <tr>\n",
        "      <th>2</th>\n",
        "      <td>                  Peking</td>\n",
        "      <td> Rede von Bundeskanzlerin Merkel anl\u00e4sslich des...</td>\n",
        "      <td>2014-07-08</td>\n",
        "      <td> Sehr geehrter Herr Pr\u00e4sident,\\r\\nsehr geehrte,...</td>\n",
        "      <td>                                               NaN</td>\n",
        "      <td> http://www.bundesregierung.de/Content/DE/Rede/...</td>\n",
        "    </tr>\n",
        "    <tr>\n",
        "      <th>3</th>\n",
        "      <td> Alliiertenmuseum Berlin</td>\n",
        "      <td> Kulturstaatsministerin Monika Gr\u00fctters zur Er\u00f6...</td>\n",
        "      <td>2014-07-08</td>\n",
        "      <td> - Es gilt das gesprochene Wort. -\\r\\nAnrede,\\r...</td>\n",
        "      <td> \"Wer verstehen will, warum uns mit den USA wei...</td>\n",
        "      <td> http://www.bundesregierung.de/Content/DE/Rede/...</td>\n",
        "    </tr>\n",
        "    <tr>\n",
        "      <th>4</th>\n",
        "      <td>                     NaN</td>\n",
        "      <td> Rede von Bundeskanzlerin Merkel anl\u00e4sslich der...</td>\n",
        "      <td>2014-07-11</td>\n",
        "      <td> Sehr geehrter Herr Meyer,\\r\\nsehr geehrte Frau...</td>\n",
        "      <td>                         in Rostock-Warnem\u00fcnde\\r\\n</td>\n",
        "      <td> http://www.bundesregierung.de/Content/DE/Rede/...</td>\n",
        "    </tr>\n",
        "  </tbody>\n",
        "</table>\n",
        "</div>"
       ],
       "metadata": {},
       "output_type": "pyout",
       "prompt_number": 15,
       "text": [
        "                     place                                              title  \\\n",
        "0                   Weimar                     Laudatio auf R\u00fcdiger Safranski   \n",
        "1                   Peking  Rede von Bundeskanzlerin Merkel anl\u00e4sslich der...   \n",
        "2                   Peking  Rede von Bundeskanzlerin Merkel anl\u00e4sslich des...   \n",
        "3  Alliiertenmuseum Berlin  Kulturstaatsministerin Monika Gr\u00fctters zur Er\u00f6...   \n",
        "4                      NaN  Rede von Bundeskanzlerin Merkel anl\u00e4sslich der...   \n",
        "\n",
        "        date                                               text  \\\n",
        "0 2014-07-06  - Es gilt das gesprochene Wort. -\\r\\nEs geh\u00f6rt...   \n",
        "1 2014-07-08  Sehr geehrter Herr Minister Miao Wei,\\r\\nmeine...   \n",
        "2 2014-07-08  Sehr geehrter Herr Pr\u00e4sident,\\r\\nsehr geehrte,...   \n",
        "3 2014-07-08  - Es gilt das gesprochene Wort. -\\r\\nAnrede,\\r...   \n",
        "4 2014-07-11  Sehr geehrter Herr Meyer,\\r\\nsehr geehrte Frau...   \n",
        "\n",
        "                                            abstract  \\\n",
        "0  Der Schriftsteller und Literaturwissenschaftle...   \n",
        "1                                      in Peking\\r\\n   \n",
        "2                                                NaN   \n",
        "3  \"Wer verstehen will, warum uns mit den USA wei...   \n",
        "4                          in Rostock-Warnem\u00fcnde\\r\\n   \n",
        "\n",
        "                                                link  \n",
        "0  http://www.bundesregierung.de/Content/DE/Rede/...  \n",
        "1  http://www.bundesregierung.de/Content/DE/Rede/...  \n",
        "2  http://www.bundesregierung.de/Content/DE/Rede/...  \n",
        "3  http://www.bundesregierung.de/Content/DE/Rede/...  \n",
        "4  http://www.bundesregierung.de/Content/DE/Rede/...  "
       ]
      }
     ],
     "prompt_number": 15
    },
    {
     "cell_type": "code",
     "collapsed": false,
     "input": [
      "titles = data['title']\n",
      "titles.head()"
     ],
     "language": "python",
     "metadata": {},
     "outputs": [
      {
       "metadata": {},
       "output_type": "pyout",
       "prompt_number": 16,
       "text": [
        "0                       Laudatio auf R\u00fcdiger Safranski\n",
        "1    Rede von Bundeskanzlerin Merkel anl\u00e4sslich der...\n",
        "2    Rede von Bundeskanzlerin Merkel anl\u00e4sslich des...\n",
        "3    Kulturstaatsministerin Monika Gr\u00fctters zur Er\u00f6...\n",
        "4    Rede von Bundeskanzlerin Merkel anl\u00e4sslich der...\n",
        "Name: title, dtype: object"
       ]
      }
     ],
     "prompt_number": 16
    },
    {
     "cell_type": "code",
     "collapsed": false,
     "input": [
      "def extract_speaker(text):\n",
      "    match = re.search(u'Rede von ([A-Z\u00c4\u00d6\u00dc]\\w+(?:\\s+[A-Z\u00c4\u00d6\u00dc]\\w+)*)', text, re.U)\n",
      "    if match:\n",
      "        return match.group(1)\n",
      "    else:\n",
      "        return None\n",
      "    \n",
      "speakers = titles.apply(extract_speaker)  # entspricht [extract_speaker(title) for title in titles]\n",
      "speakers.head()"
     ],
     "language": "python",
     "metadata": {},
     "outputs": [
      {
       "metadata": {},
       "output_type": "pyout",
       "prompt_number": 17,
       "text": [
        "0                      None\n",
        "1    Bundeskanzlerin Merkel\n",
        "2    Bundeskanzlerin Merkel\n",
        "3                      None\n",
        "4    Bundeskanzlerin Merkel\n",
        "Name: title, dtype: object"
       ]
      }
     ],
     "prompt_number": 17
    },
    {
     "cell_type": "code",
     "collapsed": false,
     "input": [
      "speakers.value_counts()"
     ],
     "language": "python",
     "metadata": {},
     "outputs": [
      {
       "metadata": {},
       "output_type": "pyout",
       "prompt_number": 18,
       "text": [
        "Bundeskanzlerin Angela Merkel                  177\n",
        "Bundeskanzlerin Merkel                         137\n",
        "Kulturstaatsminister Bernd Neumann              89\n",
        "Staatsminister Bernd Neumann                    30\n",
        "Bundeskanzlerin\u00a0Angela Merkel                   14\n",
        "Kulturstaatsministerin Gr\u00fctters                  3\n",
        "Kulturstaatsministerin Monika Gr\u00fctters           3\n",
        "Kulturstaatsminister\u00a0Bernd Neumann               2\n",
        "Bundeskanzlerin\u00a0Merkel                           2\n",
        "Bundeslandwirtschaftsministerin Ilse Aigner      1\n",
        "Bundesminister\u00a0Pofalla                           1\n",
        "Bundeskanzlerin\u00a0\u00a0Angela Merkel                   1\n",
        "Kulturstaatsministers Bernd Neumann              1\n",
        "Joachim Gauck                                    1\n",
        "Bundesau\u00dfenminister Steinmeier                   1\n",
        "Kanzlerin Merkel                                 1\n",
        "BK                                               1\n",
        "Kulturstaatsinister Bernd Neumann                1\n",
        "Staatsminister\u00a0Bernd Neumann                     1\n",
        "dtype: int64"
       ]
      }
     ],
     "prompt_number": 18
    },
    {
     "cell_type": "code",
     "collapsed": false,
     "input": [
      "len(speakers), sum(speakers.isnull())"
     ],
     "language": "python",
     "metadata": {},
     "outputs": [
      {
       "metadata": {},
       "output_type": "pyout",
       "prompt_number": 19,
       "text": [
        "(614, 147)"
       ]
      }
     ],
     "prompt_number": 19
    }
   ],
   "metadata": {}
  }
 ]
}