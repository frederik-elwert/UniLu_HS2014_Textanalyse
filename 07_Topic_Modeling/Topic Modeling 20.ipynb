{
 "metadata": {
  "name": "",
  "signature": "sha256:d5eb3dd973e8baf5f7c4639c68b352fd3bb6fd02fcaf8e4e14ac23bcc2393c92"
 },
 "nbformat": 3,
 "nbformat_minor": 0,
 "worksheets": [
  {
   "cells": [
    {
     "cell_type": "heading",
     "level": 1,
     "metadata": {},
     "source": [
      "Anwendung 2: Topic Modeling"
     ]
    },
    {
     "cell_type": "code",
     "collapsed": false,
     "input": [
      "import codecs\n",
      "import re\n",
      "\n",
      "from gensim.corpora.textcorpus import TextCorpus\n",
      "from textblob_de import TextBlobDE as TextBlob\n",
      "from textblob_de import PatternParser\n",
      "import pandas as pd\n",
      "\n",
      "class CSVCorpus(TextCorpus):\n",
      "    \"\"\"Read corpus from a csv file.\"\"\"\n",
      "\n",
      "    def tokenize(self, text):\n",
      "        words = re.findall(u'\\w+', text.lower(), re.U)\n",
      "        return words\n",
      "\n",
      "    def filter(self, tokens, stopwords):\n",
      "        return [token for token in tokens if not token in stopwords]\n",
      "\n",
      "    def get_texts(self):\n",
      "        with codecs.open('../Daten/stopwords.txt', encoding='utf-8') as stopwordfile:\n",
      "            stopwords = [line.strip() for line in stopwordfile.readlines()]\n",
      "        table = self.gettable()\n",
      "        for text in table['text']:\n",
      "            tokens = self.tokenize(text)\n",
      "            yield self.filter(tokens, stopwords)\n",
      "\n",
      "    def gettable(self):\n",
      "        if not hasattr(self, 'table'):\n",
      "            with self.getstream() as csvfile:\n",
      "                self.table = pd.read_csv(csvfile, parse_dates=['date'], encoding='utf-8')\n",
      "        return self.table\n",
      "\n",
      "    def __len__(self):\n",
      "        if not hasattr(self, 'length'):\n",
      "            # Cache length\n",
      "            self.length = len(self.gettable())\n",
      "        return self.length"
     ],
     "language": "python",
     "metadata": {},
     "outputs": [],
     "prompt_number": 1
    },
    {
     "cell_type": "code",
     "collapsed": false,
     "input": [
      "from string import punctuation\n",
      "from collections import namedtuple\n",
      "\n",
      "class LemmatizedCSVCorpus(CSVCorpus):\n",
      "    \"\"\"Read corpus from a csv file.\"\"\"\n",
      "\n",
      "    def tokenize(self, text):\n",
      "        text = text.replace(u'\\xa0', u' ')  # Ersetze \"non-breaking space\" durch normales Leerzeichen\n",
      "        text = re.sub(u'[\u201e\u201c\u201d\u201a\u2018\u2019\u2013]', '', text, re.U)  # Entferne Anf\u00fchrungzeichen und Gedankenstriche\n",
      "        blob = TextBlob(text, parser=PatternParser(lemmata=True))\n",
      "        parse = blob.parse()\n",
      "        fieldnames = [tag.replace('-', '_') for tag in parse.tags]\n",
      "        Token = namedtuple('Token', fieldnames)\n",
      "        tokens = [Token(*token.split('/', 4)) for token in parse.split(' ')]\n",
      "        return tokens\n",
      "\n",
      "    def filter(self, tokens, stopwords):\n",
      "        result = []\n",
      "        for token in tokens:\n",
      "            pos = token.part_of_speech[0:2]\n",
      "            word = token.word\n",
      "            if not word.lower() in stopwords and not word in punctuation:\n",
      "                if pos == 'NN':\n",
      "                    result.append(token.lemma.title())\n",
      "                else:\n",
      "                    result.append(token.lemma)\n",
      "        return result"
     ],
     "language": "python",
     "metadata": {},
     "outputs": [],
     "prompt_number": 2
    },
    {
     "cell_type": "code",
     "collapsed": false,
     "input": [
      "corpus = CSVCorpus('../Daten/reden.csv')\n",
      "len(corpus.dictionary)"
     ],
     "language": "python",
     "metadata": {},
     "outputs": [
      {
       "metadata": {},
       "output_type": "pyout",
       "prompt_number": 3,
       "text": [
        "48968"
       ]
      }
     ],
     "prompt_number": 3
    },
    {
     "cell_type": "code",
     "collapsed": false,
     "input": [
      "corpus.dictionary.filter_extremes()\n",
      "corpus.dictionary.compactify()\n",
      "len(corpus.dictionary)"
     ],
     "language": "python",
     "metadata": {},
     "outputs": [
      {
       "metadata": {},
       "output_type": "pyout",
       "prompt_number": 4,
       "text": [
        "10346"
       ]
      }
     ],
     "prompt_number": 4
    },
    {
     "cell_type": "code",
     "collapsed": false,
     "input": [
      "from gensim.matutils import corpus2csc\n",
      "\n",
      "corpus_matrix = corpus2csc(corpus)\n",
      "corpus_matrix.shape"
     ],
     "language": "python",
     "metadata": {},
     "outputs": [
      {
       "metadata": {},
       "output_type": "pyout",
       "prompt_number": 5,
       "text": [
        "(10346, 614)"
       ]
      }
     ],
     "prompt_number": 5
    },
    {
     "cell_type": "code",
     "collapsed": false,
     "input": [
      "corpus_matrix = corpus_matrix.transpose()\n",
      "corpus_matrix.shape"
     ],
     "language": "python",
     "metadata": {},
     "outputs": [
      {
       "metadata": {},
       "output_type": "pyout",
       "prompt_number": 6,
       "text": [
        "(614, 10346)"
       ]
      }
     ],
     "prompt_number": 6
    },
    {
     "cell_type": "code",
     "collapsed": false,
     "input": [
      "import lda\n",
      "lda_model = lda.LDA(n_topics=20, n_iter=500, random_state=1)\n",
      "lda_model.fit(corpus_matrix)"
     ],
     "language": "python",
     "metadata": {},
     "outputs": [
      {
       "metadata": {},
       "output_type": "pyout",
       "prompt_number": 7,
       "text": [
        "<lda.lda.LDA instance at 0x7f48a410a200>"
       ]
      }
     ],
     "prompt_number": 7
    },
    {
     "cell_type": "code",
     "collapsed": false,
     "input": [
      "from IPython.nbconvert.filters.markdown import markdown2html\n",
      "\n",
      "class MD(unicode):\n",
      "    def _repr_html_(self):\n",
      "        return markdown2html(self)\n",
      "\n",
      "MD(u'Das ist ein **Test!**')"
     ],
     "language": "python",
     "metadata": {},
     "outputs": [
      {
       "output_type": "stream",
       "stream": "stderr",
       "text": [
        "/home/frederik/Dropbox/Dokumente/Lehrveranstaltungen/LA_Luzern/Python/pyenv/local/lib/python2.7/site-packages/IPython/nbconvert/filters/markdown.py:78: UserWarning: Node.js 0.9.12 or later wasn't found.\n",
        "Nbconvert will try to use Pandoc instead.\n",
        "  \"Nbconvert will try to use Pandoc instead.\")\n"
       ]
      },
      {
       "html": [
        "<p>Das ist ein <strong>Test!</strong></p>"
       ],
       "metadata": {},
       "output_type": "pyout",
       "prompt_number": 8,
       "text": [
        "u'Das ist ein **Test!**'"
       ]
      }
     ],
     "prompt_number": 8
    },
    {
     "cell_type": "code",
     "collapsed": false,
     "input": [
      "import numpy as np\n",
      "vocab = [corpus.dictionary[i] for i in range(len(corpus.dictionary))]\n",
      "topic_word = lda_model.topic_word_  # model.components_ also works\n",
      "n_top_words = 20\n",
      "topics = [np.array(vocab)[np.argsort(topic_dist)][:-n_top_words:-1]\n",
      "          for topic_dist in topic_word]\n",
      "result = u''\n",
      "for i, topic_words in enumerate(topics):\n",
      "    result += u'* **Topic {}:** {}\\n'.format(i, ' '.join(topic_words))\n",
      "MD(result)"
     ],
     "language": "python",
     "metadata": {},
     "outputs": [
      {
       "html": [
        "<ul>\n",
        "<li><strong>Topic 0:</strong> politik liebe weise blick weit sinne leisten zeigt gesellschaft erfolg bedeutung stelle genau deutlich vergangenen recht wichtiger thema wichtige</li>\n",
        "<li><strong>Topic 1:</strong> erinnerung opfer gedenken geschichte vertreibung vertriebenen flucht erinnern aufarbeitung nationalsozialismus gedenkst\u00e4tte ort juden aufgabe verbrechen nationalsozialistischen haus ns vers\u00f6hnung</li>\n",
        "<li><strong>Topic 2:</strong> kultur kunst berlin ausstellung stiftung bund museum kulturellen museen haus k\u00fcnstler kulturelle gesprochene anrede bundes wort geschichte einrichtungen 1</li>\n",
        "<li><strong>Topic 3:</strong> krise wachstum prozent wettbewerbsf\u00e4higkeit wirtschaft wirtschaftskrise union augenblick internationalen energien europ\u00e4ische g20 staaten finanz vertrauen euroraum griechenland situation stark</li>\n",
        "<li><strong>Topic 4:</strong> film filme welle berlinale kinos urheber kino kommission verleihung gesprochene herzlich kreative musik films wort insbesondere f\u00f6rderung anrede jury</li>\n",
        "<li><strong>Topic 5:</strong> energien nachhaltigkeit erneuerbaren landwirtschaft klimaschutz internationalen prozent ziel thema erreichen nachhaltige co2 ziele vereinten nationen umwelt wohlstand grad ressourcen</li>\n",
        "<li><strong>Topic 6:</strong> gesellschaft familie kinder frauen familien beruf eltern wandel bildung lernen thema junge alter schule kommunen chancen kindern liebe zusammenhalt</li>\n",
        "<li><strong>Topic 7:</strong> freiheit geschichte einheit deutsch demokratie berlin 20 staaten politischen weltkrieg deutschlands kraft israel berliner frieden freundschaft generation toleranz staat</li>\n",
        "<li><strong>Topic 8:</strong> internet digitalen kultur digitalisierung digitale vielfalt \u00f6ffentlich schutz rahmenbedingungen initiative kreativen eu urheberrecht geistigen rechtlichen kreativwirtschaft eigentums netz privaten</li>\n",
        "<li><strong>Topic 9:</strong> sicherheit bundeswehr afghanistan herausforderungen soldaten einsatz staaten nato internationalen iran l\u00f6sung region afrika frieden internationale genauso partnern terrorismus politischen</li>\n",
        "<li><strong>Topic 10:</strong> unternehmen bereich forschung wirtschaft thema industrie investitionen m\u00f6glichkeiten rahmenbedingungen entwickeln bereichen hierbei region it denke bereiche infrastruktur insgesamt freue</li>\n",
        "<li><strong>Topic 11:</strong> prozent unternehmen thema bereich milliarden n\u00e4chsten 40 zahl forschung 50 ausbildung situation jungen punkt rente arbeitnehmerinnen demografischen kommunen legislaturperiode</li>\n",
        "<li><strong>Topic 12:</strong> union europ\u00e4ische mitgliedstaaten europas gemeinsame gemeinsamen frankreich w\u00e4hrungsunion wirtschafts europ\u00e4er einigung krise eu parlament w\u00e4hrung gl\u00fcck vertrag kontinent kommission</li>\n",
        "<li><strong>Topic 13:</strong> richtig sozusagen aufgabe schaffen dingen \u00fcberhaupt gesprochen politik denken worden sprechen sozialen bekommen diskussion schritt f\u00fchren 20 stellen probleme</li>\n",
        "<li><strong>Topic 14:</strong> ddr geschichte helmut kohl ost diktatur wiedervereinigung 1989 ehemaligen bundesrepublik sed teilung revolution 20 b\u00fcrger west 1990 de mauer</li>\n",
        "<li><strong>Topic 15:</strong> bund 2 mittel philipp verf\u00fcgung schritt wirtschaft legislaturperiode r\u00f6sler 000 5 bayern ziel \u00fcbrigen bildung ausgaben haushalt investition einf\u00fchrung</li>\n",
        "<li><strong>Topic 16:</strong> banken notwendig zusammenarbeit international regulierung recht risiken richtig hierbei meinung punkt regelungen sparkassen gefahr halte bezug form kommission transparenz</li>\n",
        "<li><strong>Topic 17:</strong> wissenschaft bildung universit\u00e4t professor chemie max wissenschaftlichen humboldt wissenschaften universit\u00e4ten f\u00f6rdern kooperation petra grundlagenforschung forschungseinrichtungen studenten hochschulen jungen institut</li>\n",
        "<li><strong>Topic 18:</strong> medien sachsen zeitungen zeitung anhalt journalisten presse informationen journalismus demokratie verlag interesse leser preistr\u00e4ger grosso kinder haseloff meinungsfreiheit demokratischen</li>\n",
        "<li><strong>Topic 19:</strong> china zusammenarbeit beziehungen deutsch russland t\u00fcrkei wirtschaft kooperation unternehmen mecklenburg vorpommern chinesischen wirtschaftliche bulgarien wirtschaftlichen premierminister chinesische delegation interesse</li>\n",
        "</ul>"
       ],
       "metadata": {},
       "output_type": "pyout",
       "prompt_number": 9,
       "text": [
        "u'* **Topic 0:** politik liebe weise blick weit sinne leisten zeigt gesellschaft erfolg bedeutung stelle genau deutlich vergangenen recht wichtiger thema wichtige\\n* **Topic 1:** erinnerung opfer gedenken geschichte vertreibung vertriebenen flucht erinnern aufarbeitung nationalsozialismus gedenkst\\xe4tte ort juden aufgabe verbrechen nationalsozialistischen haus ns vers\\xf6hnung\\n* **Topic 2:** kultur kunst berlin ausstellung stiftung bund museum kulturellen museen haus k\\xfcnstler kulturelle gesprochene anrede bundes wort geschichte einrichtungen 1\\n* **Topic 3:** krise wachstum prozent wettbewerbsf\\xe4higkeit wirtschaft wirtschaftskrise union augenblick internationalen energien europ\\xe4ische g20 staaten finanz vertrauen euroraum griechenland situation stark\\n* **Topic 4:** film filme welle berlinale kinos urheber kino kommission verleihung gesprochene herzlich kreative musik films wort insbesondere f\\xf6rderung anrede jury\\n* **Topic 5:** energien nachhaltigkeit erneuerbaren landwirtschaft klimaschutz internationalen prozent ziel thema erreichen nachhaltige co2 ziele vereinten nationen umwelt wohlstand grad ressourcen\\n* **Topic 6:** gesellschaft familie kinder frauen familien beruf eltern wandel bildung lernen thema junge alter schule kommunen chancen kindern liebe zusammenhalt\\n* **Topic 7:** freiheit geschichte einheit deutsch demokratie berlin 20 staaten politischen weltkrieg deutschlands kraft israel berliner frieden freundschaft generation toleranz staat\\n* **Topic 8:** internet digitalen kultur digitalisierung digitale vielfalt \\xf6ffentlich schutz rahmenbedingungen initiative kreativen eu urheberrecht geistigen rechtlichen kreativwirtschaft eigentums netz privaten\\n* **Topic 9:** sicherheit bundeswehr afghanistan herausforderungen soldaten einsatz staaten nato internationalen iran l\\xf6sung region afrika frieden internationale genauso partnern terrorismus politischen\\n* **Topic 10:** unternehmen bereich forschung wirtschaft thema industrie investitionen m\\xf6glichkeiten rahmenbedingungen entwickeln bereichen hierbei region it denke bereiche infrastruktur insgesamt freue\\n* **Topic 11:** prozent unternehmen thema bereich milliarden n\\xe4chsten 40 zahl forschung 50 ausbildung situation jungen punkt rente arbeitnehmerinnen demografischen kommunen legislaturperiode\\n* **Topic 12:** union europ\\xe4ische mitgliedstaaten europas gemeinsame gemeinsamen frankreich w\\xe4hrungsunion wirtschafts europ\\xe4er einigung krise eu parlament w\\xe4hrung gl\\xfcck vertrag kontinent kommission\\n* **Topic 13:** richtig sozusagen aufgabe schaffen dingen \\xfcberhaupt gesprochen politik denken worden sprechen sozialen bekommen diskussion schritt f\\xfchren 20 stellen probleme\\n* **Topic 14:** ddr geschichte helmut kohl ost diktatur wiedervereinigung 1989 ehemaligen bundesrepublik sed teilung revolution 20 b\\xfcrger west 1990 de mauer\\n* **Topic 15:** bund 2 mittel philipp verf\\xfcgung schritt wirtschaft legislaturperiode r\\xf6sler 000 5 bayern ziel \\xfcbrigen bildung ausgaben haushalt investition einf\\xfchrung\\n* **Topic 16:** banken notwendig zusammenarbeit international regulierung recht risiken richtig hierbei meinung punkt regelungen sparkassen gefahr halte bezug form kommission transparenz\\n* **Topic 17:** wissenschaft bildung universit\\xe4t professor chemie max wissenschaftlichen humboldt wissenschaften universit\\xe4ten f\\xf6rdern kooperation petra grundlagenforschung forschungseinrichtungen studenten hochschulen jungen institut\\n* **Topic 18:** medien sachsen zeitungen zeitung anhalt journalisten presse informationen journalismus demokratie verlag interesse leser preistr\\xe4ger grosso kinder haseloff meinungsfreiheit demokratischen\\n* **Topic 19:** china zusammenarbeit beziehungen deutsch russland t\\xfcrkei wirtschaft kooperation unternehmen mecklenburg vorpommern chinesischen wirtschaftliche bulgarien wirtschaftlichen premierminister chinesische delegation interesse\\n'"
       ]
      }
     ],
     "prompt_number": 9
    },
    {
     "cell_type": "code",
     "collapsed": false,
     "input": [
      "data = pd.read_csv(\"../Daten/reden.csv\", parse_dates=['date'], encoding='utf-8')\n",
      "titles = data['title']\n",
      "\n",
      "doc_topic = lda_model.doc_topic_\n",
      "result = u''\n",
      "for i in range(10):\n",
      "    result += u'\\n\\n**{}**\\n\\n'.format(titles[i])\n",
      "    for topic in doc_topic[i].argsort()[:-4:-1]:\n",
      "        result += u' * _Topic {}:_ {}\\n'.format(topic, ' '.join(topics[topic]))\n",
      "MD(result)"
     ],
     "language": "python",
     "metadata": {},
     "outputs": [
      {
       "html": [
        "<p><strong>Laudatio auf R\u00fcdiger Safranski</strong></p>\n",
        "<ul>\n",
        "<li><em>Topic 0:</em> politik liebe weise blick weit sinne leisten zeigt gesellschaft erfolg bedeutung stelle genau deutlich vergangenen recht wichtiger thema wichtige</li>\n",
        "<li><em>Topic 7:</em> freiheit geschichte einheit deutsch demokratie berlin 20 staaten politischen weltkrieg deutschlands kraft israel berliner frieden freundschaft generation toleranz staat</li>\n",
        "<li><em>Topic 2:</em> kultur kunst berlin ausstellung stiftung bund museum kulturellen museen haus k\u00fcnstler kulturelle gesprochene anrede bundes wort geschichte einrichtungen 1</li>\n",
        "</ul>\n",
        "<p><strong>Rede von Bundeskanzlerin Merkel anl\u00e4sslich der Pr\u00e4sentation des deutsch-chinesischen Kooperationsprojekts zur Ladeinfrastruktur f\u00fcr Elektrofahrzeuge am 8. Juli 2014</strong></p>\n",
        "<ul>\n",
        "<li><em>Topic 10:</em> unternehmen bereich forschung wirtschaft thema industrie investitionen m\u00f6glichkeiten rahmenbedingungen entwickeln bereichen hierbei region it denke bereiche infrastruktur insgesamt freue</li>\n",
        "<li><em>Topic 0:</em> politik liebe weise blick weit sinne leisten zeigt gesellschaft erfolg bedeutung stelle genau deutlich vergangenen recht wichtiger thema wichtige</li>\n",
        "<li><em>Topic 19:</em> china zusammenarbeit beziehungen deutsch russland t\u00fcrkei wirtschaft kooperation unternehmen mecklenburg vorpommern chinesischen wirtschaftliche bulgarien wirtschaftlichen premierminister chinesische delegation interesse</li>\n",
        "</ul>\n",
        "<p><strong>Rede von Bundeskanzlerin Merkel anl\u00e4sslich des Besuchs der Tsinghua - Universit\u00e4t am 8. Juli 2014</strong></p>\n",
        "<ul>\n",
        "<li><em>Topic 0:</em> politik liebe weise blick weit sinne leisten zeigt gesellschaft erfolg bedeutung stelle genau deutlich vergangenen recht wichtiger thema wichtige</li>\n",
        "<li><em>Topic 5:</em> energien nachhaltigkeit erneuerbaren landwirtschaft klimaschutz internationalen prozent ziel thema erreichen nachhaltige co2 ziele vereinten nationen umwelt wohlstand grad ressourcen</li>\n",
        "<li><em>Topic 19:</em> china zusammenarbeit beziehungen deutsch russland t\u00fcrkei wirtschaft kooperation unternehmen mecklenburg vorpommern chinesischen wirtschaftliche bulgarien wirtschaftlichen premierminister chinesische delegation interesse</li>\n",
        "</ul>\n",
        "<p><strong>Kulturstaatsministerin Monika Gr\u00fctters zur Er\u00f6ffnung der Sonderausstellung &quot;Flughafen Berlin-Tempelhof - Die amerikanische Geschichte&quot;</strong></p>\n",
        "<ul>\n",
        "<li><em>Topic 0:</em> politik liebe weise blick weit sinne leisten zeigt gesellschaft erfolg bedeutung stelle genau deutlich vergangenen recht wichtiger thema wichtige</li>\n",
        "<li><em>Topic 7:</em> freiheit geschichte einheit deutsch demokratie berlin 20 staaten politischen weltkrieg deutschlands kraft israel berliner frieden freundschaft generation toleranz staat</li>\n",
        "<li><em>Topic 2:</em> kultur kunst berlin ausstellung stiftung bund museum kulturellen museen haus k\u00fcnstler kulturelle gesprochene anrede bundes wort geschichte einrichtungen 1</li>\n",
        "</ul>\n",
        "<p><strong>Rede von Bundeskanzlerin Merkel anl\u00e4sslich der Taufe des Tiefseeforschungsschiffs \u201eSonne\u201c am 11. Juli 2014 </strong></p>\n",
        "<ul>\n",
        "<li><em>Topic 0:</em> politik liebe weise blick weit sinne leisten zeigt gesellschaft erfolg bedeutung stelle genau deutlich vergangenen recht wichtiger thema wichtige</li>\n",
        "<li><em>Topic 17:</em> wissenschaft bildung universit\u00e4t professor chemie max wissenschaftlichen humboldt wissenschaften universit\u00e4ten f\u00f6rdern kooperation petra grundlagenforschung forschungseinrichtungen studenten hochschulen jungen institut</li>\n",
        "<li><em>Topic 5:</em> energien nachhaltigkeit erneuerbaren landwirtschaft klimaschutz internationalen prozent ziel thema erreichen nachhaltige co2 ziele vereinten nationen umwelt wohlstand grad ressourcen</li>\n",
        "</ul>\n",
        "<p><strong>Rede von Bundeskanzlerin Merkel anl\u00e4sslich des 5. Petersberger Klimadialogs am 14. Juli 2014</strong></p>\n",
        "<ul>\n",
        "<li><em>Topic 5:</em> energien nachhaltigkeit erneuerbaren landwirtschaft klimaschutz internationalen prozent ziel thema erreichen nachhaltige co2 ziele vereinten nationen umwelt wohlstand grad ressourcen</li>\n",
        "<li><em>Topic 0:</em> politik liebe weise blick weit sinne leisten zeigt gesellschaft erfolg bedeutung stelle genau deutlich vergangenen recht wichtiger thema wichtige</li>\n",
        "<li><em>Topic 3:</em> krise wachstum prozent wettbewerbsf\u00e4higkeit wirtschaft wirtschaftskrise union augenblick internationalen energien europ\u00e4ische g20 staaten finanz vertrauen euroraum griechenland situation stark</li>\n",
        "</ul>\n",
        "<p><strong>Rede von Bundeskanzlerin Merkel zum Treffen mit BBK, THW und den Hilfsorganisationen im Bereich des Bev\u00f6lkerungsschutzes am 19. August 2014 in Bonn</strong></p>\n",
        "<ul>\n",
        "<li><em>Topic 0:</em> politik liebe weise blick weit sinne leisten zeigt gesellschaft erfolg bedeutung stelle genau deutlich vergangenen recht wichtiger thema wichtige</li>\n",
        "<li><em>Topic 6:</em> gesellschaft familie kinder frauen familien beruf eltern wandel bildung lernen thema junge alter schule kommunen chancen kindern liebe zusammenhalt</li>\n",
        "<li><em>Topic 13:</em> richtig sozusagen aufgabe schaffen dingen \u00fcberhaupt gesprochen politik denken worden sprechen sozialen bekommen diskussion schritt f\u00fchren 20 stellen probleme</li>\n",
        "</ul>\n",
        "<p><strong>Rede von Bundeskanzlerin Merkel zum 5. Treffen der Nobelpreistr\u00e4ger</strong></p>\n",
        "<ul>\n",
        "<li><em>Topic 0:</em> politik liebe weise blick weit sinne leisten zeigt gesellschaft erfolg bedeutung stelle genau deutlich vergangenen recht wichtiger thema wichtige</li>\n",
        "<li><em>Topic 3:</em> krise wachstum prozent wettbewerbsf\u00e4higkeit wirtschaft wirtschaftskrise union augenblick internationalen energien europ\u00e4ische g20 staaten finanz vertrauen euroraum griechenland situation stark</li>\n",
        "<li><em>Topic 13:</em> richtig sozusagen aufgabe schaffen dingen \u00fcberhaupt gesprochen politik denken worden sprechen sozialen bekommen diskussion schritt f\u00fchren 20 stellen probleme</li>\n",
        "</ul>\n",
        "<p><strong>Rede von Bundeskanzlerin Merkel zum Tag der Heimat am 30. August 2014</strong></p>\n",
        "<ul>\n",
        "<li><em>Topic 1:</em> erinnerung opfer gedenken geschichte vertreibung vertriebenen flucht erinnern aufarbeitung nationalsozialismus gedenkst\u00e4tte ort juden aufgabe verbrechen nationalsozialistischen haus ns vers\u00f6hnung</li>\n",
        "<li><em>Topic 0:</em> politik liebe weise blick weit sinne leisten zeigt gesellschaft erfolg bedeutung stelle genau deutlich vergangenen recht wichtiger thema wichtige</li>\n",
        "<li><em>Topic 7:</em> freiheit geschichte einheit deutsch demokratie berlin 20 staaten politischen weltkrieg deutschlands kraft israel berliner frieden freundschaft generation toleranz staat</li>\n",
        "</ul>\n",
        "<p><strong>Rede zur Er\u00f6ffnung des Gedenk- und Informationsortes f\u00fcr die Opfer der nationalsozialistischen &quot;Euthanasie&quot;-Morde</strong></p>\n",
        "<ul>\n",
        "<li><em>Topic 1:</em> erinnerung opfer gedenken geschichte vertreibung vertriebenen flucht erinnern aufarbeitung nationalsozialismus gedenkst\u00e4tte ort juden aufgabe verbrechen nationalsozialistischen haus ns vers\u00f6hnung</li>\n",
        "<li><em>Topic 0:</em> politik liebe weise blick weit sinne leisten zeigt gesellschaft erfolg bedeutung stelle genau deutlich vergangenen recht wichtiger thema wichtige</li>\n",
        "<li><em>Topic 7:</em> freiheit geschichte einheit deutsch demokratie berlin 20 staaten politischen weltkrieg deutschlands kraft israel berliner frieden freundschaft generation toleranz staat</li>\n",
        "</ul>"
       ],
       "metadata": {},
       "output_type": "pyout",
       "prompt_number": 10,
       "text": [
        "u'\\n\\n**Laudatio auf R\\xfcdiger Safranski**\\n\\n * _Topic 0:_ politik liebe weise blick weit sinne leisten zeigt gesellschaft erfolg bedeutung stelle genau deutlich vergangenen recht wichtiger thema wichtige\\n * _Topic 7:_ freiheit geschichte einheit deutsch demokratie berlin 20 staaten politischen weltkrieg deutschlands kraft israel berliner frieden freundschaft generation toleranz staat\\n * _Topic 2:_ kultur kunst berlin ausstellung stiftung bund museum kulturellen museen haus k\\xfcnstler kulturelle gesprochene anrede bundes wort geschichte einrichtungen 1\\n\\n\\n**Rede von Bundeskanzlerin Merkel anl\\xe4sslich der Pr\\xe4sentation des deutsch-chinesischen Kooperationsprojekts zur Ladeinfrastruktur f\\xfcr Elektrofahrzeuge am 8. Juli 2014**\\n\\n * _Topic 10:_ unternehmen bereich forschung wirtschaft thema industrie investitionen m\\xf6glichkeiten rahmenbedingungen entwickeln bereichen hierbei region it denke bereiche infrastruktur insgesamt freue\\n * _Topic 0:_ politik liebe weise blick weit sinne leisten zeigt gesellschaft erfolg bedeutung stelle genau deutlich vergangenen recht wichtiger thema wichtige\\n * _Topic 19:_ china zusammenarbeit beziehungen deutsch russland t\\xfcrkei wirtschaft kooperation unternehmen mecklenburg vorpommern chinesischen wirtschaftliche bulgarien wirtschaftlichen premierminister chinesische delegation interesse\\n\\n\\n**Rede von Bundeskanzlerin Merkel anl\\xe4sslich des Besuchs der Tsinghua - Universit\\xe4t am 8. Juli 2014**\\n\\n * _Topic 0:_ politik liebe weise blick weit sinne leisten zeigt gesellschaft erfolg bedeutung stelle genau deutlich vergangenen recht wichtiger thema wichtige\\n * _Topic 5:_ energien nachhaltigkeit erneuerbaren landwirtschaft klimaschutz internationalen prozent ziel thema erreichen nachhaltige co2 ziele vereinten nationen umwelt wohlstand grad ressourcen\\n * _Topic 19:_ china zusammenarbeit beziehungen deutsch russland t\\xfcrkei wirtschaft kooperation unternehmen mecklenburg vorpommern chinesischen wirtschaftliche bulgarien wirtschaftlichen premierminister chinesische delegation interesse\\n\\n\\n**Kulturstaatsministerin Monika Gr\\xfctters zur Er\\xf6ffnung der Sonderausstellung\\r\\n\"Flughafen Berlin-Tempelhof - Die amerikanische Geschichte\"**\\n\\n * _Topic 0:_ politik liebe weise blick weit sinne leisten zeigt gesellschaft erfolg bedeutung stelle genau deutlich vergangenen recht wichtiger thema wichtige\\n * _Topic 7:_ freiheit geschichte einheit deutsch demokratie berlin 20 staaten politischen weltkrieg deutschlands kraft israel berliner frieden freundschaft generation toleranz staat\\n * _Topic 2:_ kultur kunst berlin ausstellung stiftung bund museum kulturellen museen haus k\\xfcnstler kulturelle gesprochene anrede bundes wort geschichte einrichtungen 1\\n\\n\\n**Rede von Bundeskanzlerin Merkel anl\\xe4sslich der Taufe des Tiefseeforschungsschiffs \\u201eSonne\\u201c am 11. Juli 2014 **\\n\\n * _Topic 0:_ politik liebe weise blick weit sinne leisten zeigt gesellschaft erfolg bedeutung stelle genau deutlich vergangenen recht wichtiger thema wichtige\\n * _Topic 17:_ wissenschaft bildung universit\\xe4t professor chemie max wissenschaftlichen humboldt wissenschaften universit\\xe4ten f\\xf6rdern kooperation petra grundlagenforschung forschungseinrichtungen studenten hochschulen jungen institut\\n * _Topic 5:_ energien nachhaltigkeit erneuerbaren landwirtschaft klimaschutz internationalen prozent ziel thema erreichen nachhaltige co2 ziele vereinten nationen umwelt wohlstand grad ressourcen\\n\\n\\n**Rede von Bundeskanzlerin Merkel anl\\xe4sslich des 5. Petersberger Klimadialogs am 14. Juli 2014**\\n\\n * _Topic 5:_ energien nachhaltigkeit erneuerbaren landwirtschaft klimaschutz internationalen prozent ziel thema erreichen nachhaltige co2 ziele vereinten nationen umwelt wohlstand grad ressourcen\\n * _Topic 0:_ politik liebe weise blick weit sinne leisten zeigt gesellschaft erfolg bedeutung stelle genau deutlich vergangenen recht wichtiger thema wichtige\\n * _Topic 3:_ krise wachstum prozent wettbewerbsf\\xe4higkeit wirtschaft wirtschaftskrise union augenblick internationalen energien europ\\xe4ische g20 staaten finanz vertrauen euroraum griechenland situation stark\\n\\n\\n**Rede von Bundeskanzlerin Merkel zum Treffen mit BBK, THW und den Hilfsorganisationen im Bereich des Bev\\xf6lkerungsschutzes am 19. August 2014 in Bonn**\\n\\n * _Topic 0:_ politik liebe weise blick weit sinne leisten zeigt gesellschaft erfolg bedeutung stelle genau deutlich vergangenen recht wichtiger thema wichtige\\n * _Topic 6:_ gesellschaft familie kinder frauen familien beruf eltern wandel bildung lernen thema junge alter schule kommunen chancen kindern liebe zusammenhalt\\n * _Topic 13:_ richtig sozusagen aufgabe schaffen dingen \\xfcberhaupt gesprochen politik denken worden sprechen sozialen bekommen diskussion schritt f\\xfchren 20 stellen probleme\\n\\n\\n**Rede von Bundeskanzlerin Merkel zum 5. Treffen der Nobelpreistr\\xe4ger**\\n\\n * _Topic 0:_ politik liebe weise blick weit sinne leisten zeigt gesellschaft erfolg bedeutung stelle genau deutlich vergangenen recht wichtiger thema wichtige\\n * _Topic 3:_ krise wachstum prozent wettbewerbsf\\xe4higkeit wirtschaft wirtschaftskrise union augenblick internationalen energien europ\\xe4ische g20 staaten finanz vertrauen euroraum griechenland situation stark\\n * _Topic 13:_ richtig sozusagen aufgabe schaffen dingen \\xfcberhaupt gesprochen politik denken worden sprechen sozialen bekommen diskussion schritt f\\xfchren 20 stellen probleme\\n\\n\\n**Rede von Bundeskanzlerin Merkel zum Tag der Heimat am 30. August 2014**\\n\\n * _Topic 1:_ erinnerung opfer gedenken geschichte vertreibung vertriebenen flucht erinnern aufarbeitung nationalsozialismus gedenkst\\xe4tte ort juden aufgabe verbrechen nationalsozialistischen haus ns vers\\xf6hnung\\n * _Topic 0:_ politik liebe weise blick weit sinne leisten zeigt gesellschaft erfolg bedeutung stelle genau deutlich vergangenen recht wichtiger thema wichtige\\n * _Topic 7:_ freiheit geschichte einheit deutsch demokratie berlin 20 staaten politischen weltkrieg deutschlands kraft israel berliner frieden freundschaft generation toleranz staat\\n\\n\\n**Rede zur Er\\xf6ffnung des Gedenk- und Informationsortes f\\xfcr die Opfer der nationalsozialistischen \"Euthanasie\"-Morde**\\n\\n * _Topic 1:_ erinnerung opfer gedenken geschichte vertreibung vertriebenen flucht erinnern aufarbeitung nationalsozialismus gedenkst\\xe4tte ort juden aufgabe verbrechen nationalsozialistischen haus ns vers\\xf6hnung\\n * _Topic 0:_ politik liebe weise blick weit sinne leisten zeigt gesellschaft erfolg bedeutung stelle genau deutlich vergangenen recht wichtiger thema wichtige\\n * _Topic 7:_ freiheit geschichte einheit deutsch demokratie berlin 20 staaten politischen weltkrieg deutschlands kraft israel berliner frieden freundschaft generation toleranz staat\\n'"
       ]
      }
     ],
     "prompt_number": 10
    },
    {
     "cell_type": "code",
     "collapsed": false,
     "input": [
      "from cPickle import dump\n",
      "\n",
      "with open('topicmodel20.pickle', 'wb') as picklefile:\n",
      "    dump(lda_model, picklefile)"
     ],
     "language": "python",
     "metadata": {},
     "outputs": [],
     "prompt_number": 11
    }
   ],
   "metadata": {}
  }
 ]
}